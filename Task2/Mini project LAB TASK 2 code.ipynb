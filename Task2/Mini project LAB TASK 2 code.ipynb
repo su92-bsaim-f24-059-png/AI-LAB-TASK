{
 "cells": [
  {
   "cell_type": "code",
   "execution_count": 1,
   "id": "75fe5fbc",
   "metadata": {},
   "outputs": [
    {
     "name": "stdout",
     "output_type": "stream",
     "text": [
      "\n",
      "Adding movie 1\n",
      "\n",
      "Average budget: $166,687,500.25\n",
      "\n",
      "Pirates of the Caribbean: On Stranger Tides is above average by $212,312,499.75\n",
      "Avengers: Age of Ultron is above average by $198,312,499.75\n",
      "Avengers: Endgame is above average by $189,312,499.75\n",
      "Incredibles 2 is above average by $33,312,499.75\n",
      "\n",
      "Total movies above average: 4\n"
     ]
    }
   ],
   "source": [
    "class Movie:\n",
    "    def __init__(self, title, budget):\n",
    "        self.title = title\n",
    "        self.budget = budget\n",
    "\n",
    "    def __repr__(self):\n",
    "        return f\"{self.title} (${self.budget:,})\"\n",
    "\n",
    "\n",
    "class MovieAnalysis:\n",
    "    def __init__(self, movies):\n",
    "        self.movies = [Movie(title, budget) for title, budget in movies]\n",
    "\n",
    "    def add_movies(self):\n",
    "        try:\n",
    "            count = int(input(\"How many movies do you want to add? \"))\n",
    "        except ValueError:\n",
    "            print(\"Invalid number, skipping movie addition.\")\n",
    "            return\n",
    "\n",
    "        for i in range(count):\n",
    "            print(f\"\\nAdding movie {i+1}\")\n",
    "            title = input(\"Movie title: \").strip()\n",
    "            while True:\n",
    "                try:\n",
    "                    budget = int(input(\"Movie budget: \"))\n",
    "                    break\n",
    "                except ValueError:\n",
    "                    print(\"Enter a valid number for the budget.\")\n",
    "            self.movies.append(Movie(title, budget))\n",
    "\n",
    "    def calculate_average(self):\n",
    "        total = sum(m.budget for m in self.movies)\n",
    "        return total / len(self.movies) if self.movies else 0\n",
    "\n",
    "    def above_average_movies(self, average):\n",
    "        return [m for m in self.movies if m.budget > average]\n",
    "\n",
    "    def show_report(self):\n",
    "        avg = self.calculate_average()\n",
    "        print(f\"\\nAverage budget: ${avg:,.2f}\\n\")\n",
    "\n",
    "        higher = self.above_average_movies(avg)\n",
    "        for m in higher:\n",
    "            extra = m.budget - avg\n",
    "            print(f\"{m.title} is above average by ${extra:,.2f}\")\n",
    "\n",
    "        print(f\"\\nTotal movies above average: {len(higher)}\")\n",
    "\n",
    "\n",
    "if __name__ == \"__main__\":\n",
    "    movies = [\n",
    "        (\"Eternal Sunshine of the Spotless Mind\", 20000000),\n",
    "        (\"Memento\", 9000000),\n",
    "        (\"Requiem for a Dream\", 4500000),\n",
    "        (\"Pirates of the Caribbean: On Stranger Tides\", 379000000),\n",
    "        (\"Avengers: Age of Ultron\", 365000000),\n",
    "        (\"Avengers: Endgame\", 356000000),\n",
    "        (\"Incredibles 2\", 200000000)\n",
    "    ]\n",
    "\n",
    "    analysis = MovieAnalysis(movies)\n",
    "    analysis.add_movies()\n",
    "    analysis.show_report()\n"
   ]
  }
 ],
 "metadata": {
  "kernelspec": {
   "display_name": "base",
   "language": "python",
   "name": "python3"
  },
  "language_info": {
   "codemirror_mode": {
    "name": "ipython",
    "version": 3
   },
   "file_extension": ".py",
   "mimetype": "text/x-python",
   "name": "python",
   "nbconvert_exporter": "python",
   "pygments_lexer": "ipython3",
   "version": "3.12.4"
  }
 },
 "nbformat": 4,
 "nbformat_minor": 5
}
